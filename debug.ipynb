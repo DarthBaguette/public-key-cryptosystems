{
 "cells": [
  {
   "cell_type": "code",
   "execution_count": 2,
   "metadata": {
    "collapsed": true
   },
   "outputs": [],
   "source": [
    "def binary(n):\n",
    "    empty = \"\"\n",
    "\n",
    "    while True:\n",
    "        empty += str(n % 2)\n",
    "        n //= 2\n",
    "\n",
    "        if n // 2 == 0:\n",
    "            empty += str(n)\n",
    "            break\n",
    "\n",
    "    return empty[::-1]\n",
    "\n",
    "\n",
    "def successive_squaring(a, b, p):\n",
    "    # calculate a**b mod p\n",
    "    str_b = binary(b)\n",
    "    product = 1\n",
    "    remainder = 1\n",
    "\n",
    "    # reverse of binary(b)\n",
    "    for idx, digit in enumerate(str_b[::-1]):\n",
    "        digit = int(digit)\n",
    "\n",
    "        # base case\n",
    "        if idx == 0:\n",
    "            remainder = a % p\n",
    "            product *= remainder ** digit\n",
    "        else:\n",
    "            remainder = remainder ** 2 % p\n",
    "            product *= remainder ** digit\n",
    "            product %= p\n",
    "\n",
    "    return product"
   ]
  },
  {
   "cell_type": "code",
   "execution_count": 3,
   "outputs": [
    {
     "data": {
      "text/plain": "276"
     },
     "execution_count": 3,
     "metadata": {},
     "output_type": "execute_result"
    }
   ],
   "source": [
    "successive_squaring(564, 31, 569)"
   ],
   "metadata": {
    "collapsed": false,
    "pycharm": {
     "name": "#%%\n"
    }
   }
  },
  {
   "cell_type": "code",
   "execution_count": null,
   "outputs": [],
   "source": [
    "\"\"\"\n",
    "space: 0\n",
    "A: 1\n",
    "B: 2\n",
    "C: 3\n",
    "D: 4\n",
    "E: 5\n",
    "F: 6\n",
    "G: 7\n",
    "H: 8\n",
    "I: 9\n",
    "J: 10\n",
    "K: 11\n",
    "L: 12\n",
    "M: 13\n",
    "N: 14\n",
    "O: 15\n",
    "P: 16\n",
    "Q: 17\n",
    "R: 18\n",
    "S: 19\n",
    "T: 20\n",
    "U: 21\n",
    "V: 22\n",
    "W: 23\n",
    "X: 24\n",
    "Y: 25\n",
    "Z: 26\n",
    "\"\"\""
   ],
   "metadata": {
    "collapsed": false,
    "pycharm": {
     "name": "#%%\n"
    }
   }
  }
 ],
 "metadata": {
  "kernelspec": {
   "display_name": "Python 3",
   "language": "python",
   "name": "python3"
  },
  "language_info": {
   "codemirror_mode": {
    "name": "ipython",
    "version": 2
   },
   "file_extension": ".py",
   "mimetype": "text/x-python",
   "name": "python",
   "nbconvert_exporter": "python",
   "pygments_lexer": "ipython2",
   "version": "2.7.6"
  }
 },
 "nbformat": 4,
 "nbformat_minor": 0
}